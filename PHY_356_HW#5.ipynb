{
 "cells": [
  {
   "cell_type": "code",
   "execution_count": 16,
   "metadata": {},
   "outputs": [],
   "source": [
    "import numpy as np\n",
    "import matplotlib.pyplot as plt\n",
    "import scipy.optimize as opt\n",
    "%matplotlib inline"
   ]
  },
  {
   "cell_type": "code",
   "execution_count": 45,
   "metadata": {},
   "outputs": [
    {
     "name": "stdout",
     "output_type": "stream",
     "text": [
      "[-4.         -3.94968553 -3.89937107 -3.8490566  -3.79874214 -3.74842767\n",
      " -3.69811321 -3.64779874 -3.59748428 -3.54716981 -3.49685535 -3.44654088\n",
      " -3.39622642 -3.34591195 -3.29559748 -3.24528302 -3.19496855 -3.14465409\n",
      " -3.09433962 -3.04402516 -2.99371069 -2.94339623 -2.89308176 -2.8427673\n",
      " -2.79245283 -2.74213836 -2.6918239  -2.64150943 -2.59119497 -2.5408805\n",
      " -2.49056604 -2.44025157 -2.38993711 -2.33962264 -2.28930818 -2.23899371\n",
      " -2.18867925 -2.13836478 -2.08805031 -2.03773585 -1.98742138 -1.93710692\n",
      " -1.88679245 -1.83647799 -1.78616352 -1.73584906 -1.68553459 -1.63522013\n",
      " -1.58490566 -1.53459119 -1.48427673 -1.43396226 -1.3836478  -1.33333333\n",
      " -1.28301887 -1.2327044  -1.18238994 -1.13207547 -1.08176101 -1.03144654\n",
      " -0.98113208 -0.93081761 -0.88050314 -0.83018868 -0.77987421 -0.72955975\n",
      " -0.67924528 -0.62893082 -0.57861635 -0.52830189 -0.47798742 -0.42767296\n",
      " -0.37735849 -0.32704403 -0.27672956 -0.22641509 -0.17610063 -0.12578616\n",
      " -0.0754717  -0.02515723  0.02515723  0.0754717   0.12578616  0.17610063\n",
      "  0.22641509  0.27672956  0.32704403  0.37735849  0.42767296  0.47798742\n",
      "  0.52830189  0.57861635  0.62893082  0.67924528  0.72955975  0.77987421\n",
      "  0.83018868  0.88050314  0.93081761  0.98113208  1.03144654  1.08176101\n",
      "  1.13207547  1.18238994  1.2327044   1.28301887  1.33333333  1.3836478\n",
      "  1.43396226  1.48427673  1.53459119  1.58490566  1.63522013  1.68553459\n",
      "  1.73584906  1.78616352  1.83647799  1.88679245  1.93710692  1.98742138\n",
      "  2.03773585  2.08805031  2.13836478  2.18867925  2.23899371  2.28930818\n",
      "  2.33962264  2.38993711  2.44025157  2.49056604  2.5408805   2.59119497\n",
      "  2.64150943  2.6918239   2.74213836  2.79245283  2.8427673   2.89308176\n",
      "  2.94339623  2.99371069  3.04402516  3.09433962  3.14465409  3.19496855\n",
      "  3.24528302  3.29559748  3.34591195  3.39622642  3.44654088  3.49685535\n",
      "  3.54716981  3.59748428  3.64779874  3.69811321  3.74842767  3.79874214\n",
      "  3.8490566   3.89937107  3.94968553  4.        ]\n"
     ]
    }
   ],
   "source": [
    "x=np.linspace(-4,4,160)\n",
    "print x"
   ]
  },
  {
   "cell_type": "code",
   "execution_count": 46,
   "metadata": {},
   "outputs": [],
   "source": [
    "epsilon0 = 8.854187817e-12\n",
    "const = 1/(4*np.pi*epsilon0)"
   ]
  },
  {
   "cell_type": "code",
   "execution_count": 50,
   "metadata": {},
   "outputs": [],
   "source": [
    "y1 = ((x+1)/(2*x+17)**(3/2.0))\n",
    "y2 = ((x-1)/(-2*x+17)**(3/2.0))\n",
    "ya = 1/((2*x+17)**(3/2.0))\n",
    "yb = 1/((-2*x+17)**(3/2.0))"
   ]
  },
  {
   "cell_type": "code",
   "execution_count": 51,
   "metadata": {},
   "outputs": [],
   "source": [
    "ys = const*((y1+y2)**2+((16-x**2)*(ya+yb)**2))**(1/2.0)"
   ]
  },
  {
   "cell_type": "code",
   "execution_count": 52,
   "metadata": {},
   "outputs": [
    {
     "data": {
      "image/png": "[encoded data removed]",
      "text/plain": [
       "<matplotlib.figure.Figure at 0x1109341d0>"
      ]
     },
     "metadata": {},
     "output_type": "display_data"
    }
   ],
   "source": [
    "plt.figure(figsize=(10,5))\n",
    "plt.plot(x,ys)\n",
    "plt.show()"
   ]
  },
  {
   "cell_type": "code",
   "execution_count": 59,
   "metadata": {},
   "outputs": [],
   "source": [
    "def electricField(xs):\n",
    "    y1 = ((xs+1)/(2*xs+17)**(3/2.0))\n",
    "    y2 = ((xs-1)/(-2*xs+17)**(3/2.0))\n",
    "    ya = 1/((2*xs+17)**(3/2.0))\n",
    "    yb = 1/((-2*xs+17)**(3/2.0))\n",
    "    \n",
    "    return const*((y1+y2)**2+((16-xs**2)*(ya+yb)**2))**(1/2.0)"
   ]
  },
  {
   "cell_type": "code",
   "execution_count": 61,
   "metadata": {},
   "outputs": [
    {
     "name": "stdout",
     "output_type": "stream",
     "text": [
      "Optimization terminated successfully.\n",
      "         Current function value: 1025788936.681640\n",
      "         Iterations: 8\n",
      "         Function evaluations: 16\n"
     ]
    },
    {
     "data": {
      "text/plain": [
       "array([0.])"
      ]
     },
     "execution_count": 61,
     "metadata": {},
     "output_type": "execute_result"
    }
   ],
   "source": [
    "opt.fmin(lambda xs: electricField(xs), 0)"
   ]
  },
  {
   "cell_type": "code",
   "execution_count": 35,
   "metadata": {},
   "outputs": [
    {
     "name": "stdout",
     "output_type": "stream",
     "text": [
      "[1.35811894e+09 3.29876146e+09 3.90608186e+09 4.15827756e+09\n",
      " 4.22943614e+09 4.15827756e+09 3.90608186e+09 3.29876146e+09\n",
      " 1.35811894e+09]\n"
     ]
    }
   ],
   "source": [
    "print ys"
   ]
  }
 ],
 "metadata": {
  "kernelspec": {
   "display_name": "Python 2",
   "language": "python",
   "name": "python2"
  },
  "language_info": {
   "codemirror_mode": {
    "name": "ipython",
    "version": 2
   },
   "file_extension": ".py",
   "mimetype": "text/x-python",
   "name": "python",
   "nbconvert_exporter": "python",
   "pygments_lexer": "ipython2",
   "version": "2.7.14"
  }
 },
 "nbformat": 4,
 "nbformat_minor": 2
}
